{
 "cells": [
  {
   "cell_type": "markdown",
   "metadata": {},
   "source": [
    "# Before your start:\n",
    "- Read the README.md file\n",
    "- Comment as much as you can and use the resources (README.md file)\n",
    "- Happy learning!"
   ]
  },
  {
   "cell_type": "code",
   "execution_count": 3,
   "metadata": {},
   "outputs": [],
   "source": [
    "%matplotlib inline\n",
    "\n",
    "# import numpy and pandas\n",
    "import numpy as np\n",
    "import pandas as pd\n",
    "\n"
   ]
  },
  {
   "cell_type": "markdown",
   "metadata": {},
   "source": [
    "# Challenge 1 - Analysis of Variance\n",
    "\n",
    "In this part of the lesson, we will perform an analysis of variance to determine whether the factors in our model create a significant difference in the group means. We will be examining a dataset of FIFA players. We'll start by loading the data using the code in the cell below."
   ]
  },
  {
   "cell_type": "code",
   "execution_count": 4,
   "metadata": {},
   "outputs": [],
   "source": [
    "# Run this code:\n",
    "fifa = pd.read_csv('fifa.csv')"
   ]
  },
  {
   "cell_type": "markdown",
   "metadata": {},
   "source": [
    "Let's examine the dataset by looking at the `head`."
   ]
  },
  {
   "cell_type": "code",
   "execution_count": 11,
   "metadata": {},
   "outputs": [
    {
     "data": {
      "text/html": [
       "<div>\n",
       "<style scoped>\n",
       "    .dataframe tbody tr th:only-of-type {\n",
       "        vertical-align: middle;\n",
       "    }\n",
       "\n",
       "    .dataframe tbody tr th {\n",
       "        vertical-align: top;\n",
       "    }\n",
       "\n",
       "    .dataframe thead th {\n",
       "        text-align: right;\n",
       "    }\n",
       "</style>\n",
       "<table border=\"1\" class=\"dataframe\">\n",
       "  <thead>\n",
       "    <tr style=\"text-align: right;\">\n",
       "      <th></th>\n",
       "      <th>Name</th>\n",
       "      <th>Age</th>\n",
       "      <th>Nationality</th>\n",
       "      <th>Overall</th>\n",
       "      <th>Potential</th>\n",
       "      <th>Club</th>\n",
       "      <th>Value</th>\n",
       "      <th>Preferred Foot</th>\n",
       "      <th>Position</th>\n",
       "      <th>Weak Foot</th>\n",
       "      <th>...</th>\n",
       "      <th>SprintSpeed</th>\n",
       "      <th>Stamina</th>\n",
       "      <th>Strength</th>\n",
       "      <th>LongShots</th>\n",
       "      <th>Aggression</th>\n",
       "      <th>Interceptions</th>\n",
       "      <th>Positioning</th>\n",
       "      <th>Vision</th>\n",
       "      <th>Penalties</th>\n",
       "      <th>ValueNUM</th>\n",
       "    </tr>\n",
       "  </thead>\n",
       "  <tbody>\n",
       "    <tr>\n",
       "      <th>0</th>\n",
       "      <td>L. Messi</td>\n",
       "      <td>31</td>\n",
       "      <td>Argentina</td>\n",
       "      <td>94</td>\n",
       "      <td>94</td>\n",
       "      <td>FC Barcelona</td>\n",
       "      <td>€110.5M</td>\n",
       "      <td>Left</td>\n",
       "      <td>RF</td>\n",
       "      <td>4.0</td>\n",
       "      <td>...</td>\n",
       "      <td>86.0</td>\n",
       "      <td>72.0</td>\n",
       "      <td>59.0</td>\n",
       "      <td>94.0</td>\n",
       "      <td>48.0</td>\n",
       "      <td>22.0</td>\n",
       "      <td>94.0</td>\n",
       "      <td>94.0</td>\n",
       "      <td>75.0</td>\n",
       "      <td>110</td>\n",
       "    </tr>\n",
       "  </tbody>\n",
       "</table>\n",
       "<p>1 rows × 21 columns</p>\n",
       "</div>"
      ],
      "text/plain": [
       "       Name  Age Nationality  Overall  Potential          Club    Value  \\\n",
       "0  L. Messi   31   Argentina       94         94  FC Barcelona  €110.5M   \n",
       "\n",
       "  Preferred Foot Position  Weak Foot  ...  SprintSpeed  Stamina  Strength  \\\n",
       "0           Left       RF        4.0  ...         86.0     72.0      59.0   \n",
       "\n",
       "   LongShots  Aggression  Interceptions  Positioning  Vision  Penalties  \\\n",
       "0       94.0        48.0           22.0         94.0    94.0       75.0   \n",
       "\n",
       "   ValueNUM  \n",
       "0       110  \n",
       "\n",
       "[1 rows x 21 columns]"
      ]
     },
     "execution_count": 11,
     "metadata": {},
     "output_type": "execute_result"
    }
   ],
   "source": [
    "# Your code here:\n",
    "fifa.head(1)"
   ]
  },
  {
   "cell_type": "markdown",
   "metadata": {},
   "source": [
    "Player's values are expressed in millions of euros. We would like this column to be numeric. Therefore, let's create a numeric value column. Do this by stripping all non-numeric characters from each cell. Assign this new data to `ValueNumeric`. There is no need to multiply the value to be expressed in millions. "
   ]
  },
  {
   "cell_type": "code",
   "execution_count": 16,
   "metadata": {},
   "outputs": [],
   "source": [
    "# Your code here\n",
    "fifa['ValueNUM']=fifa['Value'].str.extract(r'(\\d+(?:\\.\\d+)?)').astype(float)"
   ]
  },
  {
   "cell_type": "code",
   "execution_count": 18,
   "metadata": {},
   "outputs": [
    {
     "data": {
      "text/plain": [
       "dtype('float64')"
      ]
     },
     "execution_count": 18,
     "metadata": {},
     "output_type": "execute_result"
    }
   ],
   "source": [
    "fifa.ValueNUM.dtypes"
   ]
  },
  {
   "cell_type": "code",
   "execution_count": 19,
   "metadata": {
    "scrolled": true
   },
   "outputs": [
    {
     "data": {
      "text/html": [
       "<div>\n",
       "<style scoped>\n",
       "    .dataframe tbody tr th:only-of-type {\n",
       "        vertical-align: middle;\n",
       "    }\n",
       "\n",
       "    .dataframe tbody tr th {\n",
       "        vertical-align: top;\n",
       "    }\n",
       "\n",
       "    .dataframe thead th {\n",
       "        text-align: right;\n",
       "    }\n",
       "</style>\n",
       "<table border=\"1\" class=\"dataframe\">\n",
       "  <thead>\n",
       "    <tr style=\"text-align: right;\">\n",
       "      <th></th>\n",
       "      <th>Name</th>\n",
       "      <th>Age</th>\n",
       "      <th>Nationality</th>\n",
       "      <th>Overall</th>\n",
       "      <th>Potential</th>\n",
       "      <th>Club</th>\n",
       "      <th>Value</th>\n",
       "      <th>Preferred Foot</th>\n",
       "      <th>Position</th>\n",
       "      <th>Weak Foot</th>\n",
       "      <th>...</th>\n",
       "      <th>SprintSpeed</th>\n",
       "      <th>Stamina</th>\n",
       "      <th>Strength</th>\n",
       "      <th>LongShots</th>\n",
       "      <th>Aggression</th>\n",
       "      <th>Interceptions</th>\n",
       "      <th>Positioning</th>\n",
       "      <th>Vision</th>\n",
       "      <th>Penalties</th>\n",
       "      <th>ValueNUM</th>\n",
       "    </tr>\n",
       "  </thead>\n",
       "  <tbody>\n",
       "    <tr>\n",
       "      <th>0</th>\n",
       "      <td>L. Messi</td>\n",
       "      <td>31</td>\n",
       "      <td>Argentina</td>\n",
       "      <td>94</td>\n",
       "      <td>94</td>\n",
       "      <td>FC Barcelona</td>\n",
       "      <td>€110.5M</td>\n",
       "      <td>Left</td>\n",
       "      <td>RF</td>\n",
       "      <td>4.0</td>\n",
       "      <td>...</td>\n",
       "      <td>86.0</td>\n",
       "      <td>72.0</td>\n",
       "      <td>59.0</td>\n",
       "      <td>94.0</td>\n",
       "      <td>48.0</td>\n",
       "      <td>22.0</td>\n",
       "      <td>94.0</td>\n",
       "      <td>94.0</td>\n",
       "      <td>75.0</td>\n",
       "      <td>110.5</td>\n",
       "    </tr>\n",
       "    <tr>\n",
       "      <th>1</th>\n",
       "      <td>Cristiano Ronaldo</td>\n",
       "      <td>33</td>\n",
       "      <td>Portugal</td>\n",
       "      <td>94</td>\n",
       "      <td>94</td>\n",
       "      <td>Juventus</td>\n",
       "      <td>€77M</td>\n",
       "      <td>Right</td>\n",
       "      <td>ST</td>\n",
       "      <td>4.0</td>\n",
       "      <td>...</td>\n",
       "      <td>91.0</td>\n",
       "      <td>88.0</td>\n",
       "      <td>79.0</td>\n",
       "      <td>93.0</td>\n",
       "      <td>63.0</td>\n",
       "      <td>29.0</td>\n",
       "      <td>95.0</td>\n",
       "      <td>82.0</td>\n",
       "      <td>85.0</td>\n",
       "      <td>77.0</td>\n",
       "    </tr>\n",
       "  </tbody>\n",
       "</table>\n",
       "<p>2 rows × 21 columns</p>\n",
       "</div>"
      ],
      "text/plain": [
       "                Name  Age Nationality  Overall  Potential          Club  \\\n",
       "0           L. Messi   31   Argentina       94         94  FC Barcelona   \n",
       "1  Cristiano Ronaldo   33    Portugal       94         94      Juventus   \n",
       "\n",
       "     Value Preferred Foot Position  Weak Foot  ...  SprintSpeed  Stamina  \\\n",
       "0  €110.5M           Left       RF        4.0  ...         86.0     72.0   \n",
       "1     €77M          Right       ST        4.0  ...         91.0     88.0   \n",
       "\n",
       "   Strength  LongShots  Aggression  Interceptions  Positioning  Vision  \\\n",
       "0      59.0       94.0        48.0           22.0         94.0    94.0   \n",
       "1      79.0       93.0        63.0           29.0         95.0    82.0   \n",
       "\n",
       "   Penalties  ValueNUM  \n",
       "0       75.0     110.5  \n",
       "1       85.0      77.0  \n",
       "\n",
       "[2 rows x 21 columns]"
      ]
     },
     "execution_count": 19,
     "metadata": {},
     "output_type": "execute_result"
    }
   ],
   "source": [
    "fifa.head(2)"
   ]
  },
  {
   "cell_type": "markdown",
   "metadata": {},
   "source": [
    "#### We'd like to determine whether a player's preffered foot and position have an impact on their value. \n",
    "\n",
    "Using the `statsmodels` library, we are able to produce an ANOVA table without munging our data. Create an ANOVA table with value as a function of position and preferred foot. Recall that pivoting is performed by the `C` function.\n",
    "\n",
    "Hint: For columns that have a space in their name, it is best to refer to the column using the dataframe (For example: for column `A`, we will use `df['A']`)."
   ]
  },
  {
   "cell_type": "code",
   "execution_count": 24,
   "metadata": {},
   "outputs": [],
   "source": [
    "# Your code here:\n",
    "import statsmodels.api as sm"
   ]
  },
  {
   "cell_type": "markdown",
   "metadata": {},
   "source": [
    "What is your conclusion from this ANOVA?"
   ]
  },
  {
   "cell_type": "code",
   "execution_count": 6,
   "metadata": {},
   "outputs": [],
   "source": [
    "# Your conclusions here:\n",
    "\n"
   ]
  },
  {
   "cell_type": "markdown",
   "metadata": {},
   "source": [
    "After looking at a model of both preffered foot and position, we decide to create an ANOVA table for nationality. Create an ANOVA table for numeric value as a function of nationality."
   ]
  },
  {
   "cell_type": "code",
   "execution_count": 8,
   "metadata": {},
   "outputs": [],
   "source": [
    "# Your code here:\n",
    "\n"
   ]
  },
  {
   "cell_type": "markdown",
   "metadata": {},
   "source": [
    "What is your conclusion from this ANOVA?"
   ]
  },
  {
   "cell_type": "markdown",
   "metadata": {},
   "source": [
    "# Challenge 2 - Linear Regression\n",
    "\n",
    "Our goal with using linear regression is to create a mathematical model that will enable us to predict the outcome of one variable using one or more additional independent variables.\n",
    "\n",
    "We'll start by ensuring there are no missing values. Examine all variables for all missing values. If there are missing values in a row, remove the entire row."
   ]
  },
  {
   "cell_type": "code",
   "execution_count": 36,
   "metadata": {},
   "outputs": [],
   "source": [
    "# Your code here:\n",
    "fifa2 = pd.read_csv('fifa.csv')\n",
    "fifa2['ValueNUM']=fifa2['Value'].str.extract(r'(\\d+(?:\\.\\d+)?)').astype(float) \n"
   ]
  },
  {
   "cell_type": "code",
   "execution_count": 38,
   "metadata": {},
   "outputs": [
    {
     "data": {
      "text/plain": [
       "Name                0\n",
       "Age                 0\n",
       "Nationality         0\n",
       "Overall             0\n",
       "Potential           0\n",
       "Club              241\n",
       "Value               0\n",
       "Preferred Foot     48\n",
       "Position           60\n",
       "Weak Foot          48\n",
       "Acceleration       48\n",
       "SprintSpeed        48\n",
       "Stamina            48\n",
       "Strength           48\n",
       "LongShots          48\n",
       "Aggression         48\n",
       "Interceptions      48\n",
       "Positioning        48\n",
       "Vision             48\n",
       "Penalties          48\n",
       "ValueNUM            0\n",
       "dtype: int64"
      ]
     },
     "execution_count": 38,
     "metadata": {},
     "output_type": "execute_result"
    }
   ],
   "source": [
    "fifa2.isna().sum()"
   ]
  },
  {
   "cell_type": "code",
   "execution_count": 39,
   "metadata": {},
   "outputs": [
    {
     "data": {
      "text/plain": [
       "Name              0\n",
       "Age               0\n",
       "Nationality       0\n",
       "Overall           0\n",
       "Potential         0\n",
       "Club              0\n",
       "Value             0\n",
       "Preferred Foot    0\n",
       "Position          0\n",
       "Weak Foot         0\n",
       "Acceleration      0\n",
       "SprintSpeed       0\n",
       "Stamina           0\n",
       "Strength          0\n",
       "LongShots         0\n",
       "Aggression        0\n",
       "Interceptions     0\n",
       "Positioning       0\n",
       "Vision            0\n",
       "Penalties         0\n",
       "ValueNUM          0\n",
       "dtype: int64"
      ]
     },
     "execution_count": 39,
     "metadata": {},
     "output_type": "execute_result"
    }
   ],
   "source": [
    "fifa2 = fifa2.dropna(axis=0)\n",
    "fifa2.isna().sum()"
   ]
  },
  {
   "cell_type": "markdown",
   "metadata": {},
   "source": [
    "Using the FIFA dataset, in the cell below, create a linear model predicting value using stamina and sprint speed. create the model using `statsmodels`. Print the model summary.\n",
    "\n",
    "Hint: remember to add an intercept to the model using the `add_constant` function."
   ]
  },
  {
   "cell_type": "code",
   "execution_count": 29,
   "metadata": {},
   "outputs": [],
   "source": [
    "# Your code here:"
   ]
  },
  {
   "cell_type": "code",
   "execution_count": 40,
   "metadata": {
    "scrolled": true
   },
   "outputs": [],
   "source": [
    "from scipy.stats import linregress"
   ]
  },
  {
   "cell_type": "code",
   "execution_count": 34,
   "metadata": {},
   "outputs": [
    {
     "data": {
      "text/plain": [
       "Name              0\n",
       "Age               0\n",
       "Nationality       0\n",
       "Overall           0\n",
       "Potential         0\n",
       "Club              0\n",
       "Value             0\n",
       "Preferred Foot    0\n",
       "Position          0\n",
       "Weak Foot         0\n",
       "Acceleration      0\n",
       "SprintSpeed       0\n",
       "Stamina           0\n",
       "Strength          0\n",
       "LongShots         0\n",
       "Aggression        0\n",
       "Interceptions     0\n",
       "Positioning       0\n",
       "Vision            0\n",
       "Penalties         0\n",
       "ValueNUM          0\n",
       "dtype: int64"
      ]
     },
     "execution_count": 34,
     "metadata": {},
     "output_type": "execute_result"
    }
   ],
   "source": []
  },
  {
   "cell_type": "markdown",
   "metadata": {},
   "source": [
    "Report your findings from the model summary. In particular, report about the model as a whole using the F-test and how much variation is predicted by the model using the r squared."
   ]
  },
  {
   "cell_type": "code",
   "execution_count": 11,
   "metadata": {},
   "outputs": [],
   "source": [
    "# Your conclusions here:\n"
   ]
  },
  {
   "cell_type": "markdown",
   "metadata": {},
   "source": [
    "Next, create a second regression model predicting value using potential. Create the model using `statsmodels` and print the model summary. Remember to add a constant term."
   ]
  },
  {
   "cell_type": "code",
   "execution_count": 12,
   "metadata": {},
   "outputs": [],
   "source": [
    "# Your code here:\n",
    "\n"
   ]
  },
  {
   "cell_type": "markdown",
   "metadata": {},
   "source": [
    "Report your findings from the model summary. In particular, report about the model as a whole using the F-test and how much variation is predicted by the model using the r squared."
   ]
  },
  {
   "cell_type": "code",
   "execution_count": 13,
   "metadata": {},
   "outputs": [],
   "source": [
    "# Your conclusions here:\n",
    "\n"
   ]
  },
  {
   "cell_type": "markdown",
   "metadata": {},
   "source": [
    "Plot a scatter plot of value vs. potential. Do you see a linear relationship?"
   ]
  },
  {
   "cell_type": "code",
   "execution_count": 14,
   "metadata": {},
   "outputs": [],
   "source": [
    "# Your code here:\n",
    "\n"
   ]
  },
  {
   "cell_type": "code",
   "execution_count": null,
   "metadata": {},
   "outputs": [],
   "source": []
  }
 ],
 "metadata": {
  "kernelspec": {
   "display_name": "Python 3",
   "language": "python",
   "name": "python3"
  },
  "language_info": {
   "codemirror_mode": {
    "name": "ipython",
    "version": 3
   },
   "file_extension": ".py",
   "mimetype": "text/x-python",
   "name": "python",
   "nbconvert_exporter": "python",
   "pygments_lexer": "ipython3",
   "version": "3.8.8"
  }
 },
 "nbformat": 4,
 "nbformat_minor": 2
}
